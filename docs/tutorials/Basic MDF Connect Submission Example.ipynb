{
 "cells": [
  {
   "cell_type": "code",
   "execution_count": 1,
   "metadata": {},
   "outputs": [],
   "source": [
    "from mdf_connect_client import MDFConnectClient"
   ]
  },
  {
   "cell_type": "markdown",
   "metadata": {},
   "source": [
    "# Basic Submission Example\n",
    "This is a simple example of submitting a dataset to MDF Connect using the MDF Connect Client."
   ]
  },
  {
   "cell_type": "code",
   "execution_count": 2,
   "metadata": {},
   "outputs": [],
   "source": [
    "# First, we instantiate the client.\n",
    "mdfcc = MDFConnectClient()"
   ]
  },
  {
   "cell_type": "markdown",
   "metadata": {},
   "source": [
    "### Creating the submission"
   ]
  },
  {
   "cell_type": "code",
   "execution_count": 3,
   "metadata": {},
   "outputs": [],
   "source": [
    "# Then, we set the mandatory minimum metadata (the DataCite block and the data location).\n",
    "# The DC block only requires a title and author.\n",
    "mdfcc.create_dc_block(title=\"Simple Test Dataset\", authors=\"A. Person\")\n",
    "# The data field requires one data location.\n",
    "mdfcc.add_data(\"https://app.globus.org/file-manager?origin_id=e38ee745-6d04-11e5-ba46-22000b92c6ec&origin_path=%2Fcitrine_mdf_demo%2Falloy.pbe%2FAgAl%2F\")"
   ]
  },
  {
   "cell_type": "code",
   "execution_count": 4,
   "metadata": {},
   "outputs": [],
   "source": [
    "# Next, we'll add some optional settings.\n",
    "# The 'globus_publish' service will get us a permanent publication and a DOI.\n",
    "mdfcc.add_service(\"globus_publish\")\n",
    "# Since this is just an example and not a real submission, we'll set the 'test' flag to True.\n",
    "mdfcc.set_test(True)"
   ]
  },
  {
   "cell_type": "code",
   "execution_count": 5,
   "metadata": {},
   "outputs": [
    {
     "data": {
      "text/plain": [
       "{'data': ['https://app.globus.org/file-manager?origin_id=e38ee745-6d04-11e5-ba46-22000b92c6ec&origin_path=%2Fcitrine_mdf_demo%2Falloy.pbe%2FAgAl%2F'],\n",
       " 'dc': {'creators': [{'creatorName': 'Person, A.',\n",
       "    'familyName': 'Person',\n",
       "    'givenName': 'A.'}],\n",
       "  'publicationYear': '2018',\n",
       "  'publisher': 'Materials Data Facility',\n",
       "  'resourceType': {'resourceType': 'Dataset',\n",
       "   'resourceTypeGeneral': 'Dataset'},\n",
       "  'titles': [{'title': 'Simple Test Dataset'}]},\n",
       " 'services': {'globus_publish': True},\n",
       " 'test': True}"
      ]
     },
     "execution_count": 5,
     "metadata": {},
     "output_type": "execute_result"
    }
   ],
   "source": [
    "# Let's look at the submission.\n",
    "mdfcc.get_submission()"
   ]
  },
  {
   "cell_type": "markdown",
   "metadata": {},
   "source": [
    "### Submitting the dataset"
   ]
  },
  {
   "cell_type": "code",
   "execution_count": 6,
   "metadata": {},
   "outputs": [
    {
     "data": {
      "text/plain": [
       "{'error': None, 'source_id': '_test_simple_test_dataset_v1-1', 'success': True}"
      ]
     },
     "execution_count": 6,
     "metadata": {},
     "output_type": "execute_result"
    }
   ],
   "source": [
    "# Let's submit the dataset.\n",
    "mdfcc.submit_dataset()"
   ]
  },
  {
   "cell_type": "code",
   "execution_count": 7,
   "metadata": {},
   "outputs": [
    {
     "name": "stdout",
     "output_type": "stream",
     "text": [
      "\n",
      "Status of TEST convert submission _test_simple_test_dataset_v1-1 (Simple Test Dataset)\n",
      "Submitted by Jonathon Gaff at 2018-11-29T19:21:13.861237Z\n",
      "\n",
      "Conversion initialization has not started yet.\n",
      "Conversion data download has not started yet.\n",
      "Data conversion has not started yet.\n",
      "Ingestion preparation has not started yet.\n",
      "Ingestion initialization has not started yet.\n",
      "Ingestion data download has not started yet.\n",
      "Integration data download has not started yet.\n",
      "Globus Search ingestion has not started yet.\n",
      "Globus Publish publication has not started yet.\n",
      "Citrine upload has not started yet.\n",
      "Materials Resource Registration has not started yet.\n",
      "Post-processing cleanup has not started yet.\n",
      "\n",
      "This submission is active.\n"
     ]
    }
   ],
   "source": [
    "# Now we can check the status of our submission.\n",
    "mdfcc.check_status()"
   ]
  },
  {
   "cell_type": "code",
   "execution_count": null,
   "metadata": {},
   "outputs": [],
   "source": []
  }
 ],
 "metadata": {
  "kernelspec": {
   "display_name": "Python 3",
   "language": "python",
   "name": "python3"
  },
  "language_info": {
   "codemirror_mode": {
    "name": "ipython",
    "version": 3
   },
   "file_extension": ".py",
   "mimetype": "text/x-python",
   "name": "python",
   "nbconvert_exporter": "python",
   "pygments_lexer": "ipython3",
   "version": "3.6.4"
  }
 },
 "nbformat": 4,
 "nbformat_minor": 2
}
